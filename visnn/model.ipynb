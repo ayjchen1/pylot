{
 "cells": [
  {
   "cell_type": "code",
   "execution_count": 3,
   "metadata": {},
   "outputs": [],
   "source": [
    "import os\n",
    "\n",
    "import torch\n",
    "import torch.nn.functional as F\n",
    "from torch.utils.data import Dataset, DataLoader\n",
    "\n",
    "import matplotlib.pyplot as plt\n",
    "import pandas as pd\n",
    "import numpy as np\n",
    "import seaborn as sns\n",
    "import sklearn\n",
    "from sklearn.model_selection import train_test_split"
   ]
  },
  {
   "cell_type": "code",
   "execution_count": 5,
   "metadata": {},
   "outputs": [],
   "source": [
    "BATCH_SIZE = 10\n",
    "EPOCHS = 50\n",
    "LEARNING_RATE = 0.005\n",
    "MOMENTUM = 0.9"
   ]
  },
  {
   "cell_type": "code",
   "execution_count": 7,
   "metadata": {},
   "outputs": [
    {
     "name": "stdout",
     "output_type": "stream",
     "text": [
      "cpu\n"
     ]
    }
   ],
   "source": [
    "device = torch.device(\"cuda:0\" if torch.cuda.is_available() else \"cpu\")\n",
    "print(device)"
   ]
  },
  {
   "cell_type": "code",
   "execution_count": 8,
   "metadata": {},
   "outputs": [],
   "source": [
    "class VisDataset(Dataset):\n",
    "    \"\"\"\n",
    "    Pytorch dataset for the visibility uncertainty values\n",
    "\n",
    "        X: relative position of obstacles\n",
    "        y: the visibility error\n",
    "    \"\"\"\n",
    "    def __init__(self, X_data, y_data):\n",
    "        self.X_data = X_data\n",
    "        self.y_data = y_data\n",
    "\n",
    "    def __getitem__(self, idx):\n",
    "        return self.X_data[idx], self.y_data[idx]\n",
    "\n",
    "    def __len__(self):\n",
    "        return len(self.X_data)"
   ]
  },
  {
   "cell_type": "code",
   "execution_count": 15,
   "metadata": {},
   "outputs": [],
   "source": [
    "def read_data(filename):\n",
    "    \"\"\"\n",
    "    Reads the visibility data (in csv format) from the filename\n",
    "    inside vis_data folder\n",
    "\n",
    "    Returns a pandas dataframe split into train (70) and test (30)\n",
    "\n",
    "    normalize inputs/outputs? or no?\n",
    "\n",
    "    \"\"\"\n",
    "    filepath = \"../vis_data/\" + filename\n",
    "    df = pd.read_csv(filepath)\n",
    "    print(\"DATAFRAME:\")\n",
    "    print(df)\n",
    "\n",
    "    X = df.iloc[:, -4:-1]\n",
    "    y = df.iloc[:, -1]\n",
    "    X_train, X_test, y_train, y_test = train_test_split(X, y, test_size=0.3, stratify=y)\n",
    "\n",
    "    X_train, X_test, y_train, y_test = X_train.astype(float), X_test.astype(float),\\\n",
    "                                        y_train.astype(float), y_test.astype(float)\n",
    "\n",
    "    return X_train, X_test, y_train, y_test"
   ]
  },
  {
   "cell_type": "code",
   "execution_count": 12,
   "metadata": {},
   "outputs": [],
   "source": [
    "def get_datasets(X_train, X_test, y_train, y_test):\n",
    "    train_dataset = VisDataset(torch.from_numpy(X_train).float(),\n",
    "                                torch.from_numpy(y_train).float())\n",
    "    test_dataset = VisDataset(torch.from_numpy(X_test).float(),\n",
    "                                torch.from_numpy(y_test).float())\n",
    "\n",
    "    return train_dataset, test_dataset\n",
    "\n",
    "def get_dataloader(dataset, batch_size):\n",
    "    loader = DataLoader(dataset=dataset,\n",
    "                        batch_size=batch_size,\n",
    "                        num_workers=2)\n",
    "    return loader"
   ]
  },
  {
   "cell_type": "code",
   "execution_count": 13,
   "metadata": {},
   "outputs": [],
   "source": [
    "def print_stats(epoch, step, loss_sum):\n",
    "    loss_str = \"EPOCH: {:2d}, STEP: {:5d}, LOSS: {:.4f}\".format(epoch, step, loss_sum)\n",
    "    print(loss_str)"
   ]
  },
  {
   "cell_type": "code",
   "execution_count": 14,
   "metadata": {},
   "outputs": [],
   "source": [
    "def run_nn(loader):\n",
    "\n",
    "    # define neural net architecture\n",
    "    net = torch.nn.Sequential(\n",
    "            torch.nn.Linear(3, 100),\n",
    "            torch.nn.LeakyReLU(),\n",
    "            torch.nn.Linear(100, 50),\n",
    "            torch.nn.LeakyReLU(),\n",
    "            torch.nn.Linear(50, 1),\n",
    "        ).to(device)\n",
    "\n",
    "    criterion = torch.nn.MSELoss() # (y - yhat)^2\n",
    "    optimizer = torch.optim.SGD(net.parameters(), lr=LEARNING_RATE, momentum=MOMENTUM)\n",
    "\n",
    "    # train the neural net\n",
    "    for epoch in range(EPOCHS):\n",
    "        loss_sum = 0\n",
    "\n",
    "        for step, data in enumerate(loader):\n",
    "            # find X, y\n",
    "            X_batch, y_batch = data\n",
    "\n",
    "            optimizer.zero_grad()   # zero the optim gradients\n",
    "\n",
    "            prediction = net(X_batch)\n",
    "            loss = criterion(prediction, y_batch)\n",
    "            loss.backward()         # backprop\n",
    "            optimizer.step()        # apply gradients\n",
    "\n",
    "            loss_sum += loss.item()\n",
    "            if (step % 100 == 0):\n",
    "                print_stats(epoch, step, loss_sum)\n",
    "                loss_sum = 0"
   ]
  },
  {
   "cell_type": "code",
   "execution_count": null,
   "metadata": {},
   "outputs": [],
   "source": []
  }
 ],
 "metadata": {
  "kernelspec": {
   "display_name": "Python 3",
   "language": "python",
   "name": "python3"
  },
  "language_info": {
   "codemirror_mode": {
    "name": "ipython",
    "version": 3
   },
   "file_extension": ".py",
   "mimetype": "text/x-python",
   "name": "python",
   "nbconvert_exporter": "python",
   "pygments_lexer": "ipython3",
   "version": "3.7.4"
  }
 },
 "nbformat": 4,
 "nbformat_minor": 2
}
