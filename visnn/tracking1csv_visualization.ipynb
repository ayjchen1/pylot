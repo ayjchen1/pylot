{
 "cells": [
  {
   "cell_type": "code",
   "execution_count": 1,
   "metadata": {},
   "outputs": [
    {
     "data": {
      "text/plain": [
       "'C:\\\\Users\\\\jerry\\\\pylot\\\\visnn'"
      ]
     },
     "execution_count": 1,
     "metadata": {},
     "output_type": "execute_result"
    }
   ],
   "source": [
    "# This import registers the 3D projection, but is otherwise unused.\n",
    "from mpl_toolkits.mplot3d import Axes3D  # noqa: F401 unused import\n",
    "\n",
    "import matplotlib.pyplot as plt\n",
    "import numpy as np\n",
    "import pandas as pd\n",
    "\n",
    "%pwd"
   ]
  },
  {
   "cell_type": "markdown",
   "metadata": {},
   "source": [
    "# Original Data (last week)"
   ]
  },
  {
   "cell_type": "code",
   "execution_count": 2,
   "metadata": {},
   "outputs": [],
   "source": [
    "df = pd.read_csv(\"C:\\\\Users\\\\jerry\\\\pylot\\\\visnn\\\\vis_data\\\\tracking.csv\")\n",
    "inputs = df.iloc[:, -4:-1]\n",
    "outputs = df.iloc[:, -1]"
   ]
  },
  {
   "cell_type": "code",
   "execution_count": 3,
   "metadata": {
    "scrolled": true
   },
   "outputs": [
    {
     "data": {
      "text/html": [
       "<div>\n",
       "<style scoped>\n",
       "    .dataframe tbody tr th:only-of-type {\n",
       "        vertical-align: middle;\n",
       "    }\n",
       "\n",
       "    .dataframe tbody tr th {\n",
       "        vertical-align: top;\n",
       "    }\n",
       "\n",
       "    .dataframe thead th {\n",
       "        text-align: right;\n",
       "    }\n",
       "</style>\n",
       "<table border=\"1\" class=\"dataframe\">\n",
       "  <thead>\n",
       "    <tr style=\"text-align: right;\">\n",
       "      <th></th>\n",
       "      <th>TIME</th>\n",
       "      <th>SIMTIME</th>\n",
       "      <th>CAMERA</th>\n",
       "      <th>GROUNDID</th>\n",
       "      <th>LABEL</th>\n",
       "      <th>X</th>\n",
       "      <th>Y</th>\n",
       "      <th>Z</th>\n",
       "      <th>ERROR</th>\n",
       "    </tr>\n",
       "  </thead>\n",
       "  <tbody>\n",
       "    <tr>\n",
       "      <td>0</td>\n",
       "      <td>1618424812261</td>\n",
       "      <td>9856</td>\n",
       "      <td>FRONT-eval</td>\n",
       "      <td>281</td>\n",
       "      <td>vehicle</td>\n",
       "      <td>25.5901</td>\n",
       "      <td>27.9185</td>\n",
       "      <td>0.0024</td>\n",
       "      <td>1000000.0000</td>\n",
       "    </tr>\n",
       "    <tr>\n",
       "      <td>1</td>\n",
       "      <td>1618424812540</td>\n",
       "      <td>9906</td>\n",
       "      <td>FRONT-eval</td>\n",
       "      <td>281</td>\n",
       "      <td>vehicle</td>\n",
       "      <td>25.5907</td>\n",
       "      <td>27.6779</td>\n",
       "      <td>0.0024</td>\n",
       "      <td>1000000.0000</td>\n",
       "    </tr>\n",
       "    <tr>\n",
       "      <td>2</td>\n",
       "      <td>1618424812811</td>\n",
       "      <td>9956</td>\n",
       "      <td>FRONT-eval</td>\n",
       "      <td>281</td>\n",
       "      <td>vehicle</td>\n",
       "      <td>25.5915</td>\n",
       "      <td>27.4373</td>\n",
       "      <td>0.0024</td>\n",
       "      <td>1000000.0000</td>\n",
       "    </tr>\n",
       "    <tr>\n",
       "      <td>3</td>\n",
       "      <td>1618424813068</td>\n",
       "      <td>10006</td>\n",
       "      <td>FRONT-eval</td>\n",
       "      <td>281</td>\n",
       "      <td>vehicle</td>\n",
       "      <td>25.5923</td>\n",
       "      <td>27.1966</td>\n",
       "      <td>0.0024</td>\n",
       "      <td>1000000.0000</td>\n",
       "    </tr>\n",
       "    <tr>\n",
       "      <td>4</td>\n",
       "      <td>1618424813355</td>\n",
       "      <td>10056</td>\n",
       "      <td>FRONT-eval</td>\n",
       "      <td>281</td>\n",
       "      <td>vehicle</td>\n",
       "      <td>25.5932</td>\n",
       "      <td>26.9560</td>\n",
       "      <td>0.0024</td>\n",
       "      <td>1000000.0000</td>\n",
       "    </tr>\n",
       "    <tr>\n",
       "      <td>...</td>\n",
       "      <td>...</td>\n",
       "      <td>...</td>\n",
       "      <td>...</td>\n",
       "      <td>...</td>\n",
       "      <td>...</td>\n",
       "      <td>...</td>\n",
       "      <td>...</td>\n",
       "      <td>...</td>\n",
       "      <td>...</td>\n",
       "    </tr>\n",
       "    <tr>\n",
       "      <td>4449</td>\n",
       "      <td>1618425318694</td>\n",
       "      <td>79556</td>\n",
       "      <td>FRONT-eval</td>\n",
       "      <td>329</td>\n",
       "      <td>vehicle</td>\n",
       "      <td>-23.5539</td>\n",
       "      <td>-18.4753</td>\n",
       "      <td>-0.0469</td>\n",
       "      <td>1000000.0000</td>\n",
       "    </tr>\n",
       "    <tr>\n",
       "      <td>4450</td>\n",
       "      <td>1618425319093</td>\n",
       "      <td>79606</td>\n",
       "      <td>FRONT-eval</td>\n",
       "      <td>329</td>\n",
       "      <td>vehicle</td>\n",
       "      <td>-23.5539</td>\n",
       "      <td>-18.4753</td>\n",
       "      <td>-0.0469</td>\n",
       "      <td>0.6243</td>\n",
       "    </tr>\n",
       "    <tr>\n",
       "      <td>4451</td>\n",
       "      <td>1618425319094</td>\n",
       "      <td>79606</td>\n",
       "      <td>FRONT-eval</td>\n",
       "      <td>260</td>\n",
       "      <td>vehicle</td>\n",
       "      <td>-34.3264</td>\n",
       "      <td>3.8316</td>\n",
       "      <td>-0.0390</td>\n",
       "      <td>1000000.0000</td>\n",
       "    </tr>\n",
       "    <tr>\n",
       "      <td>4452</td>\n",
       "      <td>1618425319094</td>\n",
       "      <td>79606</td>\n",
       "      <td>FRONT-eval</td>\n",
       "      <td>267</td>\n",
       "      <td>vehicle</td>\n",
       "      <td>-45.4046</td>\n",
       "      <td>3.8103</td>\n",
       "      <td>-0.0436</td>\n",
       "      <td>1000000.0000</td>\n",
       "    </tr>\n",
       "    <tr>\n",
       "      <td>4453</td>\n",
       "      <td>1618425319095</td>\n",
       "      <td>79606</td>\n",
       "      <td>FRONT-eval</td>\n",
       "      <td>275</td>\n",
       "      <td>vehicle</td>\n",
       "      <td>-66.7653</td>\n",
       "      <td>-0.2370</td>\n",
       "      <td>-0.0573</td>\n",
       "      <td>1000000.0000</td>\n",
       "    </tr>\n",
       "  </tbody>\n",
       "</table>\n",
       "<p>4454 rows × 9 columns</p>\n",
       "</div>"
      ],
      "text/plain": [
       "               TIME  SIMTIME      CAMERA  GROUNDID    LABEL        X        Y  \\\n",
       "0     1618424812261     9856  FRONT-eval       281  vehicle  25.5901  27.9185   \n",
       "1     1618424812540     9906  FRONT-eval       281  vehicle  25.5907  27.6779   \n",
       "2     1618424812811     9956  FRONT-eval       281  vehicle  25.5915  27.4373   \n",
       "3     1618424813068    10006  FRONT-eval       281  vehicle  25.5923  27.1966   \n",
       "4     1618424813355    10056  FRONT-eval       281  vehicle  25.5932  26.9560   \n",
       "...             ...      ...         ...       ...      ...      ...      ...   \n",
       "4449  1618425318694    79556  FRONT-eval       329  vehicle -23.5539 -18.4753   \n",
       "4450  1618425319093    79606  FRONT-eval       329  vehicle -23.5539 -18.4753   \n",
       "4451  1618425319094    79606  FRONT-eval       260  vehicle -34.3264   3.8316   \n",
       "4452  1618425319094    79606  FRONT-eval       267  vehicle -45.4046   3.8103   \n",
       "4453  1618425319095    79606  FRONT-eval       275  vehicle -66.7653  -0.2370   \n",
       "\n",
       "           Z         ERROR  \n",
       "0     0.0024  1000000.0000  \n",
       "1     0.0024  1000000.0000  \n",
       "2     0.0024  1000000.0000  \n",
       "3     0.0024  1000000.0000  \n",
       "4     0.0024  1000000.0000  \n",
       "...      ...           ...  \n",
       "4449 -0.0469  1000000.0000  \n",
       "4450 -0.0469        0.6243  \n",
       "4451 -0.0390  1000000.0000  \n",
       "4452 -0.0436  1000000.0000  \n",
       "4453 -0.0573  1000000.0000  \n",
       "\n",
       "[4454 rows x 9 columns]"
      ]
     },
     "execution_count": 3,
     "metadata": {},
     "output_type": "execute_result"
    }
   ],
   "source": [
    "df"
   ]
  },
  {
   "cell_type": "code",
   "execution_count": 7,
   "metadata": {},
   "outputs": [
    {
     "data": {
      "text/plain": [
       "281"
      ]
     },
     "execution_count": 7,
     "metadata": {},
     "output_type": "execute_result"
    }
   ],
   "source": [
    "df.GROUNDID"
   ]
  },
  {
   "cell_type": "code",
   "execution_count": 11,
   "metadata": {},
   "outputs": [
    {
     "data": {
      "image/png": "[encoded data removed]",
      "text/plain": [
       "<Figure size 432x288 with 1 Axes>"
      ]
     },
     "metadata": {
      "needs_background": "light"
     },
     "output_type": "display_data"
    }
   ],
   "source": [
    "fig = plt.figure()\n",
    "ax = fig.add_subplot(111)\n",
    "\n",
    "n = len(inputs.index)\n",
    "\n",
    "VEHICLE_ID = 281\n",
    "\n",
    "for i in range(n):\n",
    "    if (df.GROUNDID[i] == VEHICLE_ID):\n",
    "        x = inputs.iloc[i, :].X\n",
    "        y = inputs.iloc[i, :].Y\n",
    "        error = outputs[i]\n",
    "        if (error > 1000):\n",
    "            ax.scatter(x, y, c=\"#e06e5c\", marker='o')\n",
    "        else:\n",
    "            ax.scatter(x, y, c=\"#88c41f\", marker='v')\n",
    "\n",
    "ax.set_xlabel('X')\n",
    "ax.set_ylabel('Y')\n",
    "\n",
    "plt.show()"
   ]
  },
  {
   "cell_type": "code",
   "execution_count": 12,
   "metadata": {},
   "outputs": [
    {
     "data": {
      "image/png": "[encoded data removed]",
      "text/plain": [
       "<Figure size 432x288 with 1 Axes>"
      ]
     },
     "metadata": {
      "needs_background": "light"
     },
     "output_type": "display_data"
    }
   ],
   "source": [
    "fig = plt.figure()\n",
    "ax = fig.add_subplot(111)\n",
    "\n",
    "n = len(inputs.index)\n",
    "\n",
    "VEHICLE_ID = 305\n",
    "\n",
    "for i in range(n):\n",
    "    if (df.GROUNDID[i] == VEHICLE_ID):\n",
    "        x = inputs.iloc[i, :].X\n",
    "        y = inputs.iloc[i, :].Y\n",
    "        error = outputs[i]\n",
    "        if (error > 1000):\n",
    "            ax.scatter(x, y, c=\"#e06e5c\", marker='o')\n",
    "        else:\n",
    "            ax.scatter(x, y, c=\"#88c41f\", marker='v')\n",
    "\n",
    "ax.set_xlabel('X')\n",
    "ax.set_ylabel('Y')\n",
    "\n",
    "plt.show()"
   ]
  },
  {
   "cell_type": "code",
   "execution_count": 13,
   "metadata": {},
   "outputs": [
    {
     "data": {
      "image/png": "[encoded data removed]",
      "text/plain": [
       "<Figure size 432x288 with 1 Axes>"
      ]
     },
     "metadata": {
      "needs_background": "light"
     },
     "output_type": "display_data"
    }
   ],
   "source": [
    "fig = plt.figure()\n",
    "ax = fig.add_subplot(111)\n",
    "\n",
    "n = len(inputs.index)\n",
    "\n",
    "VEHICLE_ID = 267\n",
    "\n",
    "for i in range(n):\n",
    "    if (df.GROUNDID[i] == VEHICLE_ID):\n",
    "        x = inputs.iloc[i, :].X\n",
    "        y = inputs.iloc[i, :].Y\n",
    "        error = outputs[i]\n",
    "        if (error > 1000):\n",
    "            ax.scatter(x, y, c=\"#e06e5c\", marker='o')\n",
    "        else:\n",
    "            ax.scatter(x, y, c=\"#88c41f\", marker='v')\n",
    "\n",
    "ax.set_xlabel('X')\n",
    "ax.set_ylabel('Y')\n",
    "\n",
    "plt.show()"
   ]
  },
  {
   "cell_type": "code",
   "execution_count": null,
   "metadata": {},
   "outputs": [],
   "source": []
  }
 ],
 "metadata": {
  "kernelspec": {
   "display_name": "Python 3",
   "language": "python",
   "name": "python3"
  },
  "language_info": {
   "codemirror_mode": {
    "name": "ipython",
    "version": 3
   },
   "file_extension": ".py",
   "mimetype": "text/x-python",
   "name": "python",
   "nbconvert_exporter": "python",
   "pygments_lexer": "ipython3",
   "version": "3.7.4"
  }
 },
 "nbformat": 4,
 "nbformat_minor": 2
}
