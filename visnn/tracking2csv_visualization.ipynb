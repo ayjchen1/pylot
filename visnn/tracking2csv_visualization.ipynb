{
 "cells": [
  {
   "cell_type": "code",
   "execution_count": 1,
   "metadata": {},
   "outputs": [
    {
     "data": {
      "text/plain": [
       "'C:\\\\Users\\\\jerry\\\\pylot\\\\visnn'"
      ]
     },
     "execution_count": 1,
     "metadata": {},
     "output_type": "execute_result"
    }
   ],
   "source": [
    "# This import registers the 3D projection, but is otherwise unused.\n",
    "from mpl_toolkits.mplot3d import Axes3D  # noqa: F401 unused import\n",
    "\n",
    "import matplotlib.pyplot as plt\n",
    "import numpy as np\n",
    "import pandas as pd\n",
    "\n",
    "%pwd"
   ]
  },
  {
   "cell_type": "markdown",
   "metadata": {},
   "source": [
    "# Original Data (last week)"
   ]
  },
  {
   "cell_type": "code",
   "execution_count": 2,
   "metadata": {},
   "outputs": [],
   "source": [
    "df = pd.read_csv(\"C:\\\\Users\\\\jerry\\\\pylot\\\\visnn\\\\vis_data\\\\tracking2.csv\")\n",
    "inputs = df.iloc[:, -4:-1]\n",
    "outputs = df.iloc[:, -1]"
   ]
  },
  {
   "cell_type": "code",
   "execution_count": 3,
   "metadata": {
    "scrolled": true
   },
   "outputs": [
    {
     "data": {
      "text/html": [
       "<div>\n",
       "<style scoped>\n",
       "    .dataframe tbody tr th:only-of-type {\n",
       "        vertical-align: middle;\n",
       "    }\n",
       "\n",
       "    .dataframe tbody tr th {\n",
       "        vertical-align: top;\n",
       "    }\n",
       "\n",
       "    .dataframe thead th {\n",
       "        text-align: right;\n",
       "    }\n",
       "</style>\n",
       "<table border=\"1\" class=\"dataframe\">\n",
       "  <thead>\n",
       "    <tr style=\"text-align: right;\">\n",
       "      <th></th>\n",
       "      <th>TIME</th>\n",
       "      <th>SIMTIME</th>\n",
       "      <th>CAMERA</th>\n",
       "      <th>GROUNDID</th>\n",
       "      <th>LABEL</th>\n",
       "      <th>X</th>\n",
       "      <th>Y</th>\n",
       "      <th>Z</th>\n",
       "      <th>ERROR</th>\n",
       "    </tr>\n",
       "  </thead>\n",
       "  <tbody>\n",
       "    <tr>\n",
       "      <td>0</td>\n",
       "      <td>1618425598347</td>\n",
       "      <td>2544</td>\n",
       "      <td>FRONT-eval</td>\n",
       "      <td>300</td>\n",
       "      <td>vehicle</td>\n",
       "      <td>22.6963</td>\n",
       "      <td>-3.8810</td>\n",
       "      <td>-0.0897</td>\n",
       "      <td>6.1054</td>\n",
       "    </tr>\n",
       "    <tr>\n",
       "      <td>1</td>\n",
       "      <td>1618425598348</td>\n",
       "      <td>2544</td>\n",
       "      <td>FRONT-eval</td>\n",
       "      <td>336</td>\n",
       "      <td>vehicle</td>\n",
       "      <td>34.8154</td>\n",
       "      <td>12.4313</td>\n",
       "      <td>-0.0766</td>\n",
       "      <td>1000000.0000</td>\n",
       "    </tr>\n",
       "    <tr>\n",
       "      <td>2</td>\n",
       "      <td>1618425598349</td>\n",
       "      <td>2544</td>\n",
       "      <td>FRONT-eval</td>\n",
       "      <td>300</td>\n",
       "      <td>vehicle</td>\n",
       "      <td>22.6963</td>\n",
       "      <td>-3.8810</td>\n",
       "      <td>-0.0846</td>\n",
       "      <td>6.1467</td>\n",
       "    </tr>\n",
       "    <tr>\n",
       "      <td>3</td>\n",
       "      <td>1618425598350</td>\n",
       "      <td>2544</td>\n",
       "      <td>FRONT-eval</td>\n",
       "      <td>336</td>\n",
       "      <td>vehicle</td>\n",
       "      <td>34.8154</td>\n",
       "      <td>12.4313</td>\n",
       "      <td>-0.0577</td>\n",
       "      <td>1000000.0000</td>\n",
       "    </tr>\n",
       "    <tr>\n",
       "      <td>4</td>\n",
       "      <td>1618425598625</td>\n",
       "      <td>2594</td>\n",
       "      <td>FRONT-eval</td>\n",
       "      <td>300</td>\n",
       "      <td>vehicle</td>\n",
       "      <td>22.6963</td>\n",
       "      <td>-3.8810</td>\n",
       "      <td>-0.0731</td>\n",
       "      <td>6.1361</td>\n",
       "    </tr>\n",
       "    <tr>\n",
       "      <td>...</td>\n",
       "      <td>...</td>\n",
       "      <td>...</td>\n",
       "      <td>...</td>\n",
       "      <td>...</td>\n",
       "      <td>...</td>\n",
       "      <td>...</td>\n",
       "      <td>...</td>\n",
       "      <td>...</td>\n",
       "      <td>...</td>\n",
       "    </tr>\n",
       "    <tr>\n",
       "      <td>2150</td>\n",
       "      <td>1618425878735</td>\n",
       "      <td>50494</td>\n",
       "      <td>FRONT-eval</td>\n",
       "      <td>299</td>\n",
       "      <td>vehicle</td>\n",
       "      <td>-24.3631</td>\n",
       "      <td>23.7383</td>\n",
       "      <td>-0.0235</td>\n",
       "      <td>1000000.0000</td>\n",
       "    </tr>\n",
       "    <tr>\n",
       "      <td>2151</td>\n",
       "      <td>1618425878735</td>\n",
       "      <td>50494</td>\n",
       "      <td>FRONT-eval</td>\n",
       "      <td>336</td>\n",
       "      <td>vehicle</td>\n",
       "      <td>0.0373</td>\n",
       "      <td>11.9656</td>\n",
       "      <td>-0.0357</td>\n",
       "      <td>1000000.0000</td>\n",
       "    </tr>\n",
       "    <tr>\n",
       "      <td>2152</td>\n",
       "      <td>1618425878987</td>\n",
       "      <td>50544</td>\n",
       "      <td>FRONT-eval</td>\n",
       "      <td>299</td>\n",
       "      <td>vehicle</td>\n",
       "      <td>-24.3631</td>\n",
       "      <td>23.5551</td>\n",
       "      <td>-0.0235</td>\n",
       "      <td>1000000.0000</td>\n",
       "    </tr>\n",
       "    <tr>\n",
       "      <td>2153</td>\n",
       "      <td>1618425878987</td>\n",
       "      <td>50544</td>\n",
       "      <td>FRONT-eval</td>\n",
       "      <td>317</td>\n",
       "      <td>vehicle</td>\n",
       "      <td>-19.5192</td>\n",
       "      <td>23.5636</td>\n",
       "      <td>-0.0635</td>\n",
       "      <td>1000000.0000</td>\n",
       "    </tr>\n",
       "    <tr>\n",
       "      <td>2154</td>\n",
       "      <td>1618425878987</td>\n",
       "      <td>50544</td>\n",
       "      <td>FRONT-eval</td>\n",
       "      <td>336</td>\n",
       "      <td>vehicle</td>\n",
       "      <td>0.0349</td>\n",
       "      <td>12.0123</td>\n",
       "      <td>-0.0357</td>\n",
       "      <td>1000000.0000</td>\n",
       "    </tr>\n",
       "  </tbody>\n",
       "</table>\n",
       "<p>2155 rows × 9 columns</p>\n",
       "</div>"
      ],
      "text/plain": [
       "               TIME  SIMTIME      CAMERA  GROUNDID    LABEL        X        Y  \\\n",
       "0     1618425598347     2544  FRONT-eval       300  vehicle  22.6963  -3.8810   \n",
       "1     1618425598348     2544  FRONT-eval       336  vehicle  34.8154  12.4313   \n",
       "2     1618425598349     2544  FRONT-eval       300  vehicle  22.6963  -3.8810   \n",
       "3     1618425598350     2544  FRONT-eval       336  vehicle  34.8154  12.4313   \n",
       "4     1618425598625     2594  FRONT-eval       300  vehicle  22.6963  -3.8810   \n",
       "...             ...      ...         ...       ...      ...      ...      ...   \n",
       "2150  1618425878735    50494  FRONT-eval       299  vehicle -24.3631  23.7383   \n",
       "2151  1618425878735    50494  FRONT-eval       336  vehicle   0.0373  11.9656   \n",
       "2152  1618425878987    50544  FRONT-eval       299  vehicle -24.3631  23.5551   \n",
       "2153  1618425878987    50544  FRONT-eval       317  vehicle -19.5192  23.5636   \n",
       "2154  1618425878987    50544  FRONT-eval       336  vehicle   0.0349  12.0123   \n",
       "\n",
       "           Z         ERROR  \n",
       "0    -0.0897        6.1054  \n",
       "1    -0.0766  1000000.0000  \n",
       "2    -0.0846        6.1467  \n",
       "3    -0.0577  1000000.0000  \n",
       "4    -0.0731        6.1361  \n",
       "...      ...           ...  \n",
       "2150 -0.0235  1000000.0000  \n",
       "2151 -0.0357  1000000.0000  \n",
       "2152 -0.0235  1000000.0000  \n",
       "2153 -0.0635  1000000.0000  \n",
       "2154 -0.0357  1000000.0000  \n",
       "\n",
       "[2155 rows x 9 columns]"
      ]
     },
     "execution_count": 3,
     "metadata": {},
     "output_type": "execute_result"
    }
   ],
   "source": [
    "df"
   ]
  },
  {
   "cell_type": "code",
   "execution_count": 4,
   "metadata": {},
   "outputs": [
    {
     "data": {
      "text/plain": [
       "0       300\n",
       "1       336\n",
       "2       300\n",
       "3       336\n",
       "4       300\n",
       "       ... \n",
       "2150    299\n",
       "2151    336\n",
       "2152    299\n",
       "2153    317\n",
       "2154    336\n",
       "Name: GROUNDID, Length: 2155, dtype: int64"
      ]
     },
     "execution_count": 4,
     "metadata": {},
     "output_type": "execute_result"
    }
   ],
   "source": [
    "df.GROUNDID"
   ]
  },
  {
   "cell_type": "code",
   "execution_count": 5,
   "metadata": {},
   "outputs": [
    {
     "data": {
      "image/png": "[encoded data removed]",
      "text/plain": [
       "<Figure size 432x288 with 1 Axes>"
      ]
     },
     "metadata": {
      "needs_background": "light"
     },
     "output_type": "display_data"
    }
   ],
   "source": [
    "fig = plt.figure()\n",
    "ax = fig.add_subplot(111)\n",
    "\n",
    "n = len(inputs.index)\n",
    "\n",
    "VEHICLE_ID = 264\n",
    "\n",
    "for i in range(n):\n",
    "    if (df.GROUNDID[i] == VEHICLE_ID):\n",
    "        x = inputs.iloc[i, :].X\n",
    "        y = inputs.iloc[i, :].Y\n",
    "        error = outputs[i]\n",
    "        if (error > 1000):\n",
    "            ax.scatter(x, y, c=\"#e06e5c\", marker='o')\n",
    "        else:\n",
    "            ax.scatter(x, y, c=\"#88c41f\", marker='v')\n",
    "\n",
    "ax.set_xlabel('X')\n",
    "ax.set_ylabel('Y')\n",
    "\n",
    "plt.show()"
   ]
  },
  {
   "cell_type": "code",
   "execution_count": 6,
   "metadata": {},
   "outputs": [
    {
     "data": {
      "image/png": "[encoded data removed]",
      "text/plain": [
       "<Figure size 432x288 with 1 Axes>"
      ]
     },
     "metadata": {
      "needs_background": "light"
     },
     "output_type": "display_data"
    }
   ],
   "source": [
    "fig = plt.figure()\n",
    "ax = fig.add_subplot(111)\n",
    "\n",
    "n = len(inputs.index)\n",
    "\n",
    "VEHICLE_ID = 336\n",
    "\n",
    "for i in range(n):\n",
    "    if (df.GROUNDID[i] == VEHICLE_ID):\n",
    "        x = inputs.iloc[i, :].X\n",
    "        y = inputs.iloc[i, :].Y\n",
    "        error = outputs[i]\n",
    "        if (error > 1000):\n",
    "            ax.scatter(x, y, c=\"#e06e5c\", marker='o')\n",
    "        else:\n",
    "            ax.scatter(x, y, c=\"#88c41f\", marker='v')\n",
    "\n",
    "ax.set_xlabel('X')\n",
    "ax.set_ylabel('Y')\n",
    "\n",
    "plt.show()"
   ]
  },
  {
   "cell_type": "code",
   "execution_count": 8,
   "metadata": {},
   "outputs": [
    {
     "data": {
      "image/png": "[encoded data removed]",
      "text/plain": [
       "<Figure size 432x288 with 1 Axes>"
      ]
     },
     "metadata": {
      "needs_background": "light"
     },
     "output_type": "display_data"
    }
   ],
   "source": [
    "fig = plt.figure()\n",
    "ax = fig.add_subplot(111)\n",
    "\n",
    "n = len(inputs.index)\n",
    "\n",
    "VEHICLE_ID = 273\n",
    "\n",
    "for i in range(n):\n",
    "    if (df.GROUNDID[i] == VEHICLE_ID):\n",
    "        x = inputs.iloc[i, :].X\n",
    "        y = inputs.iloc[i, :].Y\n",
    "        error = outputs[i]\n",
    "        if (error > 1000):\n",
    "            ax.scatter(x, y, c=\"#e06e5c\", marker='o')\n",
    "        else:\n",
    "            ax.scatter(x, y, c=\"#88c41f\", marker='v')\n",
    "\n",
    "ax.set_xlabel('X')\n",
    "ax.set_ylabel('Y')\n",
    "\n",
    "plt.show()"
   ]
  },
  {
   "cell_type": "code",
   "execution_count": 9,
   "metadata": {},
   "outputs": [
    {
     "data": {
      "image/png": "[encoded data removed]",
      "text/plain": [
       "<Figure size 432x288 with 1 Axes>"
      ]
     },
     "metadata": {
      "needs_background": "light"
     },
     "output_type": "display_data"
    }
   ],
   "source": [
    "fig = plt.figure()\n",
    "ax = fig.add_subplot(111)\n",
    "\n",
    "n = len(inputs.index)\n",
    "\n",
    "VEHICLE_ID = 284\n",
    "\n",
    "for i in range(n):\n",
    "    if (df.GROUNDID[i] == VEHICLE_ID):\n",
    "        x = inputs.iloc[i, :].X\n",
    "        y = inputs.iloc[i, :].Y\n",
    "        error = outputs[i]\n",
    "        if (error > 1000):\n",
    "            ax.scatter(x, y, c=\"#e06e5c\", marker='o')\n",
    "        else:\n",
    "            ax.scatter(x, y, c=\"#88c41f\", marker='v')\n",
    "\n",
    "ax.set_xlabel('X')\n",
    "ax.set_ylabel('Y')\n",
    "\n",
    "plt.show()"
   ]
  },
  {
   "cell_type": "code",
   "execution_count": null,
   "metadata": {},
   "outputs": [],
   "source": []
  }
 ],
 "metadata": {
  "kernelspec": {
   "display_name": "Python 3",
   "language": "python",
   "name": "python3"
  },
  "language_info": {
   "codemirror_mode": {
    "name": "ipython",
    "version": 3
   },
   "file_extension": ".py",
   "mimetype": "text/x-python",
   "name": "python",
   "nbconvert_exporter": "python",
   "pygments_lexer": "ipython3",
   "version": "3.7.4"
  }
 },
 "nbformat": 4,
 "nbformat_minor": 2
}
